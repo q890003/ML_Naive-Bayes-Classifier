{
  "nbformat": 4,
  "nbformat_minor": 0,
  "metadata": {
    "colab": {
      "name": "ML_HW2_2.ipynb",
      "provenance": [],
      "mount_file_id": "17AvauLlSfBH1559rOfuwRMz94Ycfh01g",
      "authorship_tag": "ABX9TyMQfWx2rx/i5v1rkt5gLoN3",
      "include_colab_link": true
    },
    "kernelspec": {
      "name": "python3",
      "display_name": "Python 3"
    }
  },
  "cells": [
    {
      "cell_type": "markdown",
      "metadata": {
        "id": "view-in-github",
        "colab_type": "text"
      },
      "source": [
        "<a href=\"https://colab.research.google.com/github/q890003/ML_Naive-Bayes-Classifier/blob/master/ML_HW2_2.ipynb\" target=\"_parent\"><img src=\"https://colab.research.google.com/assets/colab-badge.svg\" alt=\"Open In Colab\"/></a>"
      ]
    },
    {
      "cell_type": "code",
      "metadata": {
        "id": "1Hac9sfODTDL",
        "colab_type": "code",
        "outputId": "4e7ab761-7c7d-433c-80d1-35378276fb22",
        "colab": {
          "base_uri": "https://localhost:8080/",
          "height": 952
        }
      },
      "source": [
        "import sys\n",
        "from scipy.special import comb \n",
        "\n",
        "cases = open(\"/content/drive/My Drive/Colab Notebooks/ML_hw2_data/coin2.txt\", \"r\")\n",
        "a= 0\n",
        "b = 0\n",
        "# cumu_total = 0\n",
        "# P = 0.5\n",
        "\n",
        "\n",
        "# cases = open(sys.argv[1], \"r\")\n",
        "# a = int(sys.argv[2])\n",
        "# b = int(sys.argv[3])\n",
        "for i, case in enumerate(cases):\n",
        "    case = case.replace('\\n',\"\")\n",
        "    m = case.count('1')\n",
        "    N = len(case)\n",
        "    P = m/N\n",
        "    likelihood = comb(N, m) * P**m * (1-P)**(N-m)\n",
        "    # P = comb(cumu_total+ cur_num-1,m+a-1) * (P**(m+ a-1)) * (1-P)**(n+b-1)\n",
        "\n",
        "    print(\"case {i}: {case}\".format(i=i+1, case=case))\n",
        "    print(\"Likelihood:{L}\".format(L=likelihood))\n",
        "    print(\"Beta prior:     a:{a}, b:{b}\".format(a=a, b=b))\n",
        "    a += m\n",
        "    b += N-m\n",
        "    # cumu_total += N\n",
        "    # P = a/cumu_total\n",
        "    print(\"Beta posterior: a:{a}, b:{b}\\n\".format(a=a, b=b))    \n"
      ],
      "execution_count": 0,
      "outputs": [
        {
          "output_type": "stream",
          "text": [
            "case 1: 0101010101001011010101\n",
            "Likelihood:0.16818809509277344\n",
            "Beta prior:     a:0, b:0\n",
            "Beta posterior: a:11, b:11\n",
            "\n",
            "case 2: 0110101\n",
            "Likelihood:0.29375515303997485\n",
            "Beta prior:     a:11, b:11\n",
            "Beta posterior: a:15, b:14\n",
            "\n",
            "case 3: 010110101101\n",
            "Likelihood:0.2286054241794335\n",
            "Beta prior:     a:15, b:14\n",
            "Beta posterior: a:22, b:19\n",
            "\n",
            "case 4: 0101101011101011010\n",
            "Likelihood:0.18286870706509092\n",
            "Beta prior:     a:22, b:19\n",
            "Beta posterior: a:33, b:27\n",
            "\n",
            "case 5: 111101100011110\n",
            "Likelihood:0.2143070548857833\n",
            "Beta prior:     a:33, b:27\n",
            "Beta posterior: a:43, b:32\n",
            "\n",
            "case 6: 101110111000110\n",
            "Likelihood:0.20659760529408\n",
            "Beta prior:     a:43, b:32\n",
            "Beta posterior: a:52, b:38\n",
            "\n",
            "case 7: 1010010111\n",
            "Likelihood:0.25082265600000003\n",
            "Beta prior:     a:52, b:38\n",
            "Beta posterior: a:58, b:42\n",
            "\n",
            "case 8: 11101110110\n",
            "Likelihood:0.2619678932864457\n",
            "Beta prior:     a:58, b:42\n",
            "Beta posterior: a:66, b:45\n",
            "\n",
            "case 9: 01000111101\n",
            "Likelihood:0.23609128871506807\n",
            "Beta prior:     a:66, b:45\n",
            "Beta posterior: a:72, b:50\n",
            "\n",
            "case 10: 110100111\n",
            "Likelihood:0.27312909617436365\n",
            "Beta prior:     a:72, b:50\n",
            "Beta posterior: a:78, b:53\n",
            "\n",
            "case 11: 01101010111\n",
            "Likelihood:0.24384881449471862\n",
            "Beta prior:     a:78, b:53\n",
            "Beta posterior: a:85, b:57\n",
            "\n"
          ],
          "name": "stdout"
        }
      ]
    },
    {
      "cell_type": "code",
      "metadata": {
        "id": "YhULzlDDfk3i",
        "colab_type": "code",
        "colab": {}
      },
      "source": [
        "import numpy as np\n",
        "import sys\n",
        "from scipy.special import comb\n",
        "\n",
        "a = 0\n",
        "b = 0\n",
        "case = 0\n",
        "for line in open(\"/content/drive/My Drive/Colab Notebooks/ML_hw2_data/coin2.txt\",'r'):\n",
        "    if line.endswith('\\n'):\n",
        "        N = len(line) - 1\n",
        "    else:\n",
        "        N = len(line)\n",
        "    success = line.count('1')\n",
        "    p = success / N;\n",
        "    q = 1 - p\n",
        "    likelihood = comb(N,success) * pow(p,success) * pow(q,N-success)\n",
        "    case += 1\n",
        "    if line.endswith('\\n'):\n",
        "        print('case ',case,': ',line,end='')\n",
        "    else:\n",
        "        print('case ',case,': ',line)\n",
        "    print('Likelihood: ',likelihood)\n",
        "    print('Beta prior:\\t','a = ',a,' b = ',b)\n",
        "    a += success\n",
        "    b += (N - success)\n",
        "    print('Beta posterior:\\t','a = ',a,' b = ',b)"
      ],
      "execution_count": 0,
      "outputs": []
    },
    {
      "cell_type": "code",
      "metadata": {
        "id": "_ib8Hal3VDL0",
        "colab_type": "code",
        "outputId": "cdb36ec4-689a-477a-d743-fa6b4057af6d",
        "colab": {
          "base_uri": "https://localhost:8080/",
          "height": 34
        }
      },
      "source": [
        ""
      ],
      "execution_count": 0,
      "outputs": [
        {
          "output_type": "execute_result",
          "data": {
            "text/plain": [
              "8"
            ]
          },
          "metadata": {
            "tags": []
          },
          "execution_count": 25
        }
      ]
    },
    {
      "cell_type": "code",
      "metadata": {
        "id": "ygDHuQ_pE6vu",
        "colab_type": "code",
        "colab": {}
      },
      "source": [
        ""
      ],
      "execution_count": 0,
      "outputs": []
    }
  ]
}